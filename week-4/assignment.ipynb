{
 "metadata": {
  "language_info": {
   "codemirror_mode": {
    "name": "ipython",
    "version": 3
   },
   "file_extension": ".py",
   "mimetype": "text/x-python",
   "name": "python",
   "nbconvert_exporter": "python",
   "pygments_lexer": "ipython3",
   "version": "3.7.7-final"
  },
  "orig_nbformat": 2,
  "kernelspec": {
   "name": "Python 3.7.7 64-bit ('idp': conda)",
   "display_name": "Python 3.7.7 64-bit ('idp': conda)",
   "metadata": {
    "interpreter": {
     "hash": "9d037a923b085e92e5cdc8f6a061532ae7f5ad54f23a87f3565d564c12b7732a"
    }
   }
  }
 },
 "nbformat": 4,
 "nbformat_minor": 2,
 "cells": [
  {
   "source": [
    "# Capstone Project: The Battle of the Neighbourhoods (Week 1)\n",
    "### Corurse 9: Applied Data Science Capstone by IBM/Coursera"
   ],
   "cell_type": "markdown",
   "metadata": {}
  },
  {
   "source": [
    "## Table of contents\n",
    "* [Introduction: Business Problem](#introduction)\n",
    "* [Data](#data)"
   ],
   "cell_type": "markdown",
   "metadata": {}
  },
  {
   "source": [
    "## Introduction: Business Problem <a name=\"introduction\"></a>"
   ],
   "cell_type": "markdown",
   "metadata": {}
  },
  {
   "source": [
    "In this project, we will try to build a model to find the optimal neighbourhood for openning a new business. As an example we will specify the business type to be an **Italian restaurant**.\n",
    "\n",
    "Since London is huge city with a lot of restraunts, we will try to identify the optimal neighbourhood to open a new Italian restaurant. We will try to identify the optimal neighborhood based on:\n",
    "* Less number of **high rating** Italian restraunts.\n",
    "* Less number of Italian restraunts.\n",
    "* Less number of restraunts.\n"
   ],
   "cell_type": "markdown",
   "metadata": {}
  },
  {
   "source": [
    "## Data <a name=\"data\"></a>"
   ],
   "cell_type": "markdown",
   "metadata": {}
  },
  {
   "source": [
    "Based on teh description of the [Business Problem](#introduction), we will need to get data of:\n",
    "* List of neighbourhoods in London with their latitudes, longitudes and area.\n",
    "* Number of restraunts (any type) in each neighbourhood.\n",
    "* Number of Italian restraunts in the neighbourhood.\n",
    "* Rating of each Italian restraunt in the neighbourhood.\n",
    "\n",
    "We will extract the required data as follows:\n",
    "* We will get the list of neighbourhoods in London and their geo-location from [Wikipedia page](#https://en.wikipedia.org/wiki/List_of_London_boroughs).\n",
    "* We will get the restraunts information for each neighbourhood from **Foursquare API**.\n",
    "* Also, for the map visualization we will get the location of London using **geopy API**.\n",
    "\n",
    "#### Assumptions"
   ],
   "cell_type": "markdown",
   "metadata": {}
  },
  {
   "source": [
    "First, lets import the required libraries"
   ],
   "cell_type": "markdown",
   "metadata": {}
  },
  {
   "cell_type": "code",
   "execution_count": 1,
   "metadata": {},
   "outputs": [],
   "source": [
    "import numpy as np # library to handle data in a vectorized manner\n",
    "\n",
    "import pandas as pd\n",
    "pd.set_option('display.max_columns', None)\n",
    "pd.set_option('display.max_rows', None)\n",
    "\n",
    "import re #Library to read config file\n",
    "\n",
    "import geocoder\n",
    "\n",
    "import folium\n",
    "\n",
    "#!conda install -c conda-forge geopy --yes\n",
    "from geopy.geocoders import Nominatim\n",
    "\n",
    "import configparser #Library to read config file\n",
    "\n",
    "import json\n",
    "\n",
    "import requests\n",
    "\n",
    "import math"
   ]
  },
  {
   "source": [
    "### Neighbourhood Data\n",
    "We will retrieve the list of London neighbourhoods from Wikipedia page [List of London boroughs](#https://en.wikipedia.org/wiki/List_of_London_boroughs) which contain London neighbourhoods and their Geo-Location information and other irrelavant information which will be excluded."
   ],
   "cell_type": "markdown",
   "metadata": {}
  },
  {
   "cell_type": "code",
   "execution_count": 2,
   "metadata": {},
   "outputs": [
    {
     "output_type": "stream",
     "name": "stdout",
     "text": [
      "List of London boroughs loaded\n"
     ]
    },
    {
     "output_type": "execute_result",
     "data": {
      "text/plain": [
       "           Neighbourhood  Latitude  Longitude         Area  Area-Radius\n",
       "0  Barking and Dagenham    51.5607     0.1557   36078700.0  3388.835625\n",
       "1                 Barnet   51.6252    -0.1517   86739100.0  5254.513588\n",
       "2                 Bexley   51.4549     0.1505   60554200.0  4390.330342\n",
       "3                  Brent   51.5588    -0.2817   43253000.0  3710.506368\n",
       "4                Bromley   51.4039     0.0198  150142300.0  6913.159800"
      ],
      "text/html": "<div>\n<style scoped>\n    .dataframe tbody tr th:only-of-type {\n        vertical-align: middle;\n    }\n\n    .dataframe tbody tr th {\n        vertical-align: top;\n    }\n\n    .dataframe thead th {\n        text-align: right;\n    }\n</style>\n<table border=\"1\" class=\"dataframe\">\n  <thead>\n    <tr style=\"text-align: right;\">\n      <th></th>\n      <th>Neighbourhood</th>\n      <th>Latitude</th>\n      <th>Longitude</th>\n      <th>Area</th>\n      <th>Area-Radius</th>\n    </tr>\n  </thead>\n  <tbody>\n    <tr>\n      <th>0</th>\n      <td>Barking and Dagenham</td>\n      <td>51.5607</td>\n      <td>0.1557</td>\n      <td>36078700.0</td>\n      <td>3388.835625</td>\n    </tr>\n    <tr>\n      <th>1</th>\n      <td>Barnet</td>\n      <td>51.6252</td>\n      <td>-0.1517</td>\n      <td>86739100.0</td>\n      <td>5254.513588</td>\n    </tr>\n    <tr>\n      <th>2</th>\n      <td>Bexley</td>\n      <td>51.4549</td>\n      <td>0.1505</td>\n      <td>60554200.0</td>\n      <td>4390.330342</td>\n    </tr>\n    <tr>\n      <th>3</th>\n      <td>Brent</td>\n      <td>51.5588</td>\n      <td>-0.2817</td>\n      <td>43253000.0</td>\n      <td>3710.506368</td>\n    </tr>\n    <tr>\n      <th>4</th>\n      <td>Bromley</td>\n      <td>51.4039</td>\n      <td>0.0198</td>\n      <td>150142300.0</td>\n      <td>6913.159800</td>\n    </tr>\n  </tbody>\n</table>\n</div>"
     },
     "metadata": {},
     "execution_count": 2
    }
   ],
   "source": [
    "# Funtion to calculate area in meter square from mile square\n",
    "def convert_mi2_m2(row) :\n",
    "    mi_2 = row[\"Area (sq mi)\"]\n",
    "    m_2 = mi_2 * 2590000\n",
    "    return m_2\n",
    "\n",
    "# function to calculate Circle radius in meteres from meter square area\n",
    "def convert_area_radius(row) :\n",
    "    area = row[\"Area\"]\n",
    "    radius = math.sqrt((area / math.pi))\n",
    "    return radius\n",
    "\n",
    "# read html tables from the Wikipedia page\n",
    "dfs = pd.read_html('https://en.wikipedia.org/wiki/List_of_London_boroughs') \n",
    "print('List of London boroughs loaded')\n",
    "\n",
    "# we get 2 dataframes so we concat them into one dataframe \n",
    "df = pd.concat([dfs[0], dfs[1]])\n",
    "\n",
    "# Caclculate Area and radius in metric measurements\n",
    "df[\"Area\"] = df.apply(lambda row : convert_mi2_m2(row), axis=1)\n",
    "df[\"Area-Radius\"] = df.apply(lambda row : convert_area_radius(row), axis=1)\n",
    "\n",
    "# extract only the columns we are interested in\n",
    "london_df = df[['Borough', 'Co-ordinates', 'Area', 'Area-Radius']].reset_index(drop=True)\n",
    "london_df.rename(columns={'Borough' : 'Neighbourhood'}, inplace = True)\n",
    "\n",
    "# clean Borough from [note 1]\n",
    "note_regex = re.compile(r\"\\[note \\d]\")\n",
    "london_df['Neighbourhood'] = london_df['Neighbourhood'].str.replace(pat=note_regex, repl='', regex=True)\n",
    "\n",
    "#Split the Co-ordinates column into 2 columns for DMS and Decimal geo-formats\n",
    "london_df[['Co-ordinates_DMS', 'Co-ordinates_DEC']] = london_df['Co-ordinates'].str.split(pat=' / ', expand=True)\n",
    "london_df[['Latitude', 'Longitude']] = london_df['Co-ordinates_DEC'].str.split(expand=True)\n",
    "\n",
    "# extract and clean Latitude and Longitude from Co-ordinates_DEC\n",
    "def clean_dec(dec_str):\n",
    "    \n",
    "    sign = -1 if re.search('[swSW]', dec_str) else 1\n",
    "    dec_str = re.sub(r'°.', '', dec_str)\n",
    "    dec_str = re.sub(' ', '', dec_str)\n",
    "    dec_str = re.sub(u'\\ufeff', '', dec_str)\n",
    "    \n",
    "    return sign * (float(dec_str))\n",
    "\n",
    "london_df['Latitude'] = london_df['Latitude'].apply(clean_dec)\n",
    "london_df['Longitude'] = london_df['Longitude'].apply(clean_dec)\n",
    "\n",
    "# extract only needed columns\n",
    "london_df = london_df[['Neighbourhood', 'Latitude', 'Longitude', 'Area', 'Area-Radius']]\n",
    "\n",
    "london_df.head()\n"
   ]
  },
  {
   "source": [
    "Each neighborhood in London has different area. We already consider/assume the Longitude and Latitude we got from Wikipedia to be the center of each neighborhood. \n",
    "\n",
    "As we are going to provide the **radius** in our Foursquare APIs calls, we associated each neighborhood to a radius value of a circle whose area equals the neighborhood area.  "
   ],
   "cell_type": "markdown",
   "metadata": {}
  },
  {
   "source": [
    "### London City Location\n",
    "\n",
    "Now, le's get the location of London using geopy API."
   ],
   "cell_type": "markdown",
   "metadata": {}
  },
  {
   "cell_type": "code",
   "execution_count": 3,
   "metadata": {},
   "outputs": [
    {
     "output_type": "stream",
     "name": "stdout",
     "text": [
      "Coordinate of London, UK: [51.5073219, -0.1276474]\n"
     ]
    }
   ],
   "source": [
    "def get_geo_location(addr) :\n",
    "    geolocator = Nominatim(user_agent=\"uk_explorer\")\n",
    "    location = geolocator.geocode(addr)\n",
    "    latitude = location.latitude\n",
    "    longitude = location.longitude\n",
    "    #print('The geograpical coordinate of London City are {}, {}.'.format(latitude, longitude))\n",
    "    return [latitude, longitude]\n",
    "\n",
    "address = 'London, UK'\n",
    "london_location = get_geo_location(address)\n",
    "print('Coordinate of {}: {}'.format(address, london_location))"
   ]
  },
  {
   "source": [
    "Now we can visualize the London maps and its neighborhood. Each neighborhood center will be surrounded with circls of radius proportional to its area."
   ],
   "cell_type": "markdown",
   "metadata": {}
  },
  {
   "cell_type": "code",
   "execution_count": 5,
   "metadata": {},
   "outputs": [
    {
     "output_type": "execute_result",
     "data": {
      "text/plain": [
       "<folium.folium.Map at 0x7f092f2254d0>"
      ],
      "text/html": "<div style=\"width:100%;\"><div style=\"position:relative;width:100%;height:0;padding-bottom:60%;\"><span style=\"color:#565656\">Make this Notebook Trusted to load map: File -> Trust Notebook</span><iframe src=\"about:blank\" style=\"position:absolute;width:100%;height:100%;left:0;top:0;border:none !important;\" data-html=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 onload=\"this.contentDocument.open();this.contentDocument.write(atob(this.getAttribute('data-html')));this.contentDocument.close();\" allowfullscreen webkitallowfullscreen mozallowfullscreen></iframe></div></div>"
     },
     "metadata": {},
     "execution_count": 5
    }
   ],
   "source": [
    "\n",
    "\n",
    "map_london = folium.Map(location=london_location, zoom_start=10)\n",
    "\n",
    "\n",
    "folium.CircleMarker(\n",
    "    london_location,\n",
    "    radius=3,\n",
    "    color='red',\n",
    "    popup=address,\n",
    "    fill=True,\n",
    "    fill_color='red',\n",
    "    fill_opacity=0.6\n",
    ").add_to(map_london)\n",
    "\n",
    "for lat, lng, radius, label in zip(london_df.Latitude, london_df.Longitude, london_df['Area-Radius'] , london_df.Neighbourhood) :\n",
    "    folium.CircleMarker(\n",
    "        [lat, lng],\n",
    "        radius=3,\n",
    "        color='blue',\n",
    "        popup=label,\n",
    "        fill = True,\n",
    "        fill_color='blue',\n",
    "        fill_opacity=0.6\n",
    "    ).add_to(map_london)\n",
    "\n",
    "    folium.Circle(\n",
    "        [lat, lng],\n",
    "        radius=radius,\n",
    "        color='Yellow'\n",
    "    ).add_to(map_london)\n",
    "\n",
    "map_london"
   ]
  },
  {
   "source": [
    "### Restraunts Data\n",
    "#### Foursquare"
   ],
   "cell_type": "markdown",
   "metadata": {}
  },
  {
   "cell_type": "code",
   "execution_count": null,
   "metadata": {},
   "outputs": [],
   "source": [
    "# Read Foursquare authentication info from hidden config file\n",
    "config = configparser.ConfigParser()\n",
    "config.read('secrets.cfg')\n",
    "CLIENT_ID = config['4square_personal']['CLIENT_ID']\n",
    "CLIENT_SECRET = config['4square_personal']['CLIENT_SECRET']\n",
    "VERSION = '20201103' # Foursquare API version\n",
    "LIMIT = 100 # A default Foursquare API limit value\n",
    "\n",
    "REQUEST_DEFAULT_PARAMS = dict(\n",
    "    client_id = CLIENT_ID,\n",
    "    client_secret = CLIENT_SECRET,\n",
    "    v=VERSION\n",
    ")\n",
    "\n",
    "\n"
   ]
  },
  {
   "cell_type": "code",
   "execution_count": null,
   "metadata": {},
   "outputs": [],
   "source": [
    "def get_food_category_config() :\n",
    "    URL_4SQU_CATEGORIES = 'https://api.foursquare.com/v2/venues/categories'\n",
    "\n",
    "    categories_params = REQUEST_DEFAULT_PARAMS.copy()\n",
    "\n",
    "    results = requests.get(url=URL_4SQU_CATEGORIES, params=categories_params).json()[\"response\"][\"categories\"]\n",
    "    type(results)\n",
    "    FOOD_CAT_ID = ''\n",
    "    FOOD_CAT_Name = 'Food'\n",
    "\n",
    "    index = -1\n",
    "    for cat in results :\n",
    "        index += 1\n",
    "        if cat[\"name\"] == FOOD_CAT_Name :\n",
    "            FOOD_CAT_ID = cat[\"id\"]\n",
    "            break\n",
    "    restaurant_category = []\n",
    "\n",
    "    for sub_cat in results[index][\"categories\"] :\n",
    "        if \"Restaurant\" in sub_cat[\"name\"] :\n",
    "           restaurant_category.append(sub_cat[\"id\"]) \n",
    "\n",
    "    return FOOD_CAT_ID, FOOD_CAT_Name, restaurant_category_ids\n",
    "\n",
    "\n",
    "food_cat_id, food_cat_name, restaurants_cat_list = get_food_category_config()\n"
   ]
  },
  {
   "cell_type": "code",
   "execution_count": null,
   "metadata": {},
   "outputs": [],
   "source": [
    "URL_4SQU_EXPLORE = 'https://api.foursquare.com/v2/venues/explore'\n",
    "\n",
    "lat = 51.6252\n",
    "lng = -0.1517\n",
    "explore_params = REQUEST_DEFAULT_PARAMS.copy()\n",
    "explore_params.update({\n",
    "    \"ll\" : '{}, {}'.format(lat, lng), \n",
    "    \"limit\" : 1000,\n",
    "    \"radius\" : 250,\n",
    "    \"section\" : 'food',\n",
    "    \"sortByPopularity\" : 1\n",
    "    })\n",
    "\n",
    "results = requests.get(url=URL_4SQU_EXPLORE, params=explore_params).json()\n",
    "type(results)"
   ]
  },
  {
   "cell_type": "code",
   "execution_count": null,
   "metadata": {},
   "outputs": [],
   "source": [
    "URL_4SQU_SEARCH = 'https://api.foursquare.com/v2/venues/search'\n",
    "\n",
    "lat = 51.6252\n",
    "lng = -0.1517\n",
    "search_params = REQUEST_DEFAULT_PARAMS.copy()\n",
    "search_params.update({\n",
    "    \"ll\" : '{}, {}'.format(lat, lng), \n",
    "    \"limit\" : 50,\n",
    "    \"radius\" : 250,\n",
    "    \"categoryId\" : \",\".join(restaurants_cat_list)\n",
    "    })\n",
    "\n",
    "results = requests.get(url=URL_4SQU_EXPLORE, params=explore_params).json()\n",
    "type(results)"
   ]
  },
  {
   "cell_type": "code",
   "execution_count": null,
   "metadata": {},
   "outputs": [],
   "source": [
    "groups = results[\"response\"]['groups'][0]['items']\n",
    "results"
   ]
  },
  {
   "cell_type": "code",
   "execution_count": null,
   "metadata": {},
   "outputs": [],
   "source": []
  }
 ]
}