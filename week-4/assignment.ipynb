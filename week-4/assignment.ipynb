{
 "metadata": {
  "language_info": {
   "codemirror_mode": {
    "name": "ipython",
    "version": 3
   },
   "file_extension": ".py",
   "mimetype": "text/x-python",
   "name": "python",
   "nbconvert_exporter": "python",
   "pygments_lexer": "ipython3",
   "version": "3.7.7-final"
  },
  "orig_nbformat": 2,
  "kernelspec": {
   "name": "Python 3.7.7 64-bit ('idp': conda)",
   "display_name": "Python 3.7.7 64-bit ('idp': conda)",
   "metadata": {
    "interpreter": {
     "hash": "9d037a923b085e92e5cdc8f6a061532ae7f5ad54f23a87f3565d564c12b7732a"
    }
   }
  }
 },
 "nbformat": 4,
 "nbformat_minor": 2,
 "cells": [
  {
   "source": [
    "# Capstone Project: The Battle of the Neighbourhoods (Week 1)\n",
    "### Corurse 9: Applied Data Science Capstone by IBM/Coursera"
   ],
   "cell_type": "markdown",
   "metadata": {}
  },
  {
   "source": [
    "## Table of contents\n",
    "* [Introduction: Business Problem](#introduction)\n",
    "* [Data](#data)"
   ],
   "cell_type": "markdown",
   "metadata": {}
  },
  {
   "source": [
    "## Introduction: Business Problem <a name=\"introduction\"></a>"
   ],
   "cell_type": "markdown",
   "metadata": {}
  },
  {
   "source": [
    "In this project, we will try to build a model to find the optimal neighbourhood for openning a new business. As an example we will specify the business type to be an **Italian restaurant**."
   ],
   "cell_type": "markdown",
   "metadata": {}
  },
  {
   "source": [
    "## Data <a name=\"data\"></a>"
   ],
   "cell_type": "markdown",
   "metadata": {}
  },
  {
   "source": [],
   "cell_type": "markdown",
   "metadata": {}
  },
  {
   "source": [
    "Import Libraries"
   ],
   "cell_type": "markdown",
   "metadata": {}
  },
  {
   "cell_type": "code",
   "execution_count": 1,
   "metadata": {},
   "outputs": [],
   "source": [
    "import numpy as np # library to handle data in a vectorized manner\n",
    "\n",
    "import pandas as pd\n",
    "pd.set_option('display.max_columns', None)\n",
    "pd.set_option('display.max_rows', None)\n",
    "\n",
    "import re"
   ]
  },
  {
   "cell_type": "code",
   "execution_count": 2,
   "metadata": {},
   "outputs": [],
   "source": [
    "dfs = pd.read_html('https://en.wikipedia.org/wiki/List_of_London_boroughs') \n",
    "\n",
    "# df = pd.read_csv('london-borough-profiles.csv', encoding = \"ISO-8859-1\")"
   ]
  },
  {
   "cell_type": "code",
   "execution_count": 3,
   "metadata": {},
   "outputs": [
    {
     "output_type": "execute_result",
     "data": {
      "text/plain": [
       "                         Borough Inner Status  \\\n",
       "0  Barking and Dagenham [note 1]   NaN    NaN   \n",
       "1                         Barnet   NaN    NaN   \n",
       "2                         Bexley   NaN    NaN   \n",
       "3                          Brent   NaN    NaN   \n",
       "4                        Bromley   NaN    NaN   \n",
       "\n",
       "                               Local authority Political control  \\\n",
       "0  Barking and Dagenham London Borough Council            Labour   \n",
       "1                Barnet London Borough Council      Conservative   \n",
       "2                Bexley London Borough Council      Conservative   \n",
       "3                 Brent London Borough Council            Labour   \n",
       "4               Bromley London Borough Council      Conservative   \n",
       "\n",
       "                                Headquarters  Area (sq mi)  \\\n",
       "0                   Town Hall, 1 Town Square         13.93   \n",
       "1  Barnet House, 2 Bristol Avenue, Colindale         33.49   \n",
       "2            Civic Offices, 2 Watling Street         23.38   \n",
       "3          Brent Civic Centre, Engineers Way         16.70   \n",
       "4              Civic Centre, Stockwell Close         57.97   \n",
       "\n",
       "   Population (2013 est)[1]                                 Co-ordinates  \\\n",
       "0                  194352.0  51°33′39″N 0°09′21″E﻿ / ﻿51.5607°N 0.1557°E   \n",
       "1                  369088.0  51°37′31″N 0°09′06″W﻿ / ﻿51.6252°N 0.1517°W   \n",
       "2                  236687.0  51°27′18″N 0°09′02″E﻿ / ﻿51.4549°N 0.1505°E   \n",
       "3                  317264.0  51°33′32″N 0°16′54″W﻿ / ﻿51.5588°N 0.2817°W   \n",
       "4                  317899.0  51°24′14″N 0°01′11″E﻿ / ﻿51.4039°N 0.0198°E   \n",
       "\n",
       "   Nr. in map  Population(2011 est)  Nr. inmap  \n",
       "0        25.0                   NaN        NaN  \n",
       "1        31.0                   NaN        NaN  \n",
       "2        23.0                   NaN        NaN  \n",
       "3        12.0                   NaN        NaN  \n",
       "4        20.0                   NaN        NaN  "
      ],
      "text/html": "<div>\n<style scoped>\n    .dataframe tbody tr th:only-of-type {\n        vertical-align: middle;\n    }\n\n    .dataframe tbody tr th {\n        vertical-align: top;\n    }\n\n    .dataframe thead th {\n        text-align: right;\n    }\n</style>\n<table border=\"1\" class=\"dataframe\">\n  <thead>\n    <tr style=\"text-align: right;\">\n      <th></th>\n      <th>Borough</th>\n      <th>Inner</th>\n      <th>Status</th>\n      <th>Local authority</th>\n      <th>Political control</th>\n      <th>Headquarters</th>\n      <th>Area (sq mi)</th>\n      <th>Population (2013 est)[1]</th>\n      <th>Co-ordinates</th>\n      <th>Nr. in map</th>\n      <th>Population(2011 est)</th>\n      <th>Nr. inmap</th>\n    </tr>\n  </thead>\n  <tbody>\n    <tr>\n      <th>0</th>\n      <td>Barking and Dagenham [note 1]</td>\n      <td>NaN</td>\n      <td>NaN</td>\n      <td>Barking and Dagenham London Borough Council</td>\n      <td>Labour</td>\n      <td>Town Hall, 1 Town Square</td>\n      <td>13.93</td>\n      <td>194352.0</td>\n      <td>51°33′39″N 0°09′21″E﻿ / ﻿51.5607°N 0.1557°E</td>\n      <td>25.0</td>\n      <td>NaN</td>\n      <td>NaN</td>\n    </tr>\n    <tr>\n      <th>1</th>\n      <td>Barnet</td>\n      <td>NaN</td>\n      <td>NaN</td>\n      <td>Barnet London Borough Council</td>\n      <td>Conservative</td>\n      <td>Barnet House, 2 Bristol Avenue, Colindale</td>\n      <td>33.49</td>\n      <td>369088.0</td>\n      <td>51°37′31″N 0°09′06″W﻿ / ﻿51.6252°N 0.1517°W</td>\n      <td>31.0</td>\n      <td>NaN</td>\n      <td>NaN</td>\n    </tr>\n    <tr>\n      <th>2</th>\n      <td>Bexley</td>\n      <td>NaN</td>\n      <td>NaN</td>\n      <td>Bexley London Borough Council</td>\n      <td>Conservative</td>\n      <td>Civic Offices, 2 Watling Street</td>\n      <td>23.38</td>\n      <td>236687.0</td>\n      <td>51°27′18″N 0°09′02″E﻿ / ﻿51.4549°N 0.1505°E</td>\n      <td>23.0</td>\n      <td>NaN</td>\n      <td>NaN</td>\n    </tr>\n    <tr>\n      <th>3</th>\n      <td>Brent</td>\n      <td>NaN</td>\n      <td>NaN</td>\n      <td>Brent London Borough Council</td>\n      <td>Labour</td>\n      <td>Brent Civic Centre, Engineers Way</td>\n      <td>16.70</td>\n      <td>317264.0</td>\n      <td>51°33′32″N 0°16′54″W﻿ / ﻿51.5588°N 0.2817°W</td>\n      <td>12.0</td>\n      <td>NaN</td>\n      <td>NaN</td>\n    </tr>\n    <tr>\n      <th>4</th>\n      <td>Bromley</td>\n      <td>NaN</td>\n      <td>NaN</td>\n      <td>Bromley London Borough Council</td>\n      <td>Conservative</td>\n      <td>Civic Centre, Stockwell Close</td>\n      <td>57.97</td>\n      <td>317899.0</td>\n      <td>51°24′14″N 0°01′11″E﻿ / ﻿51.4039°N 0.0198°E</td>\n      <td>20.0</td>\n      <td>NaN</td>\n      <td>NaN</td>\n    </tr>\n  </tbody>\n</table>\n</div>"
     },
     "metadata": {},
     "execution_count": 3
    }
   ],
   "source": [
    "df = pd.concat([dfs[0], dfs[1]])\n",
    "df.head()"
   ]
  },
  {
   "cell_type": "code",
   "execution_count": 4,
   "metadata": {},
   "outputs": [],
   "source": [
    "london_df = df[['Borough', 'Co-ordinates']].reset_index(drop=True)"
   ]
  },
  {
   "cell_type": "code",
   "execution_count": 5,
   "metadata": {},
   "outputs": [
    {
     "output_type": "execute_result",
     "data": {
      "text/plain": [
       "                 Borough                                 Co-ordinates  \\\n",
       "0  Barking and Dagenham   51°33′39″N 0°09′21″E﻿ / ﻿51.5607°N 0.1557°E   \n",
       "1                 Barnet  51°37′31″N 0°09′06″W﻿ / ﻿51.6252°N 0.1517°W   \n",
       "2                 Bexley  51°27′18″N 0°09′02″E﻿ / ﻿51.4549°N 0.1505°E   \n",
       "3                  Brent  51°33′32″N 0°16′54″W﻿ / ﻿51.5588°N 0.2817°W   \n",
       "4                Bromley  51°24′14″N 0°01′11″E﻿ / ﻿51.4039°N 0.0198°E   \n",
       "\n",
       "        Co-ordinates_DMS     Co-ordinates_DEC    Latitude Longitude  \n",
       "0  51°33′39″N 0°09′21″E﻿  ﻿51.5607°N 0.1557°E  ﻿51.5607°N  0.1557°E  \n",
       "1  51°37′31″N 0°09′06″W﻿  ﻿51.6252°N 0.1517°W  ﻿51.6252°N  0.1517°W  \n",
       "2  51°27′18″N 0°09′02″E﻿  ﻿51.4549°N 0.1505°E  ﻿51.4549°N  0.1505°E  \n",
       "3  51°33′32″N 0°16′54″W﻿  ﻿51.5588°N 0.2817°W  ﻿51.5588°N  0.2817°W  \n",
       "4  51°24′14″N 0°01′11″E﻿  ﻿51.4039°N 0.0198°E  ﻿51.4039°N  0.0198°E  "
      ],
      "text/html": "<div>\n<style scoped>\n    .dataframe tbody tr th:only-of-type {\n        vertical-align: middle;\n    }\n\n    .dataframe tbody tr th {\n        vertical-align: top;\n    }\n\n    .dataframe thead th {\n        text-align: right;\n    }\n</style>\n<table border=\"1\" class=\"dataframe\">\n  <thead>\n    <tr style=\"text-align: right;\">\n      <th></th>\n      <th>Borough</th>\n      <th>Co-ordinates</th>\n      <th>Co-ordinates_DMS</th>\n      <th>Co-ordinates_DEC</th>\n      <th>Latitude</th>\n      <th>Longitude</th>\n    </tr>\n  </thead>\n  <tbody>\n    <tr>\n      <th>0</th>\n      <td>Barking and Dagenham</td>\n      <td>51°33′39″N 0°09′21″E﻿ / ﻿51.5607°N 0.1557°E</td>\n      <td>51°33′39″N 0°09′21″E﻿</td>\n      <td>﻿51.5607°N 0.1557°E</td>\n      <td>﻿51.5607°N</td>\n      <td>0.1557°E</td>\n    </tr>\n    <tr>\n      <th>1</th>\n      <td>Barnet</td>\n      <td>51°37′31″N 0°09′06″W﻿ / ﻿51.6252°N 0.1517°W</td>\n      <td>51°37′31″N 0°09′06″W﻿</td>\n      <td>﻿51.6252°N 0.1517°W</td>\n      <td>﻿51.6252°N</td>\n      <td>0.1517°W</td>\n    </tr>\n    <tr>\n      <th>2</th>\n      <td>Bexley</td>\n      <td>51°27′18″N 0°09′02″E﻿ / ﻿51.4549°N 0.1505°E</td>\n      <td>51°27′18″N 0°09′02″E﻿</td>\n      <td>﻿51.4549°N 0.1505°E</td>\n      <td>﻿51.4549°N</td>\n      <td>0.1505°E</td>\n    </tr>\n    <tr>\n      <th>3</th>\n      <td>Brent</td>\n      <td>51°33′32″N 0°16′54″W﻿ / ﻿51.5588°N 0.2817°W</td>\n      <td>51°33′32″N 0°16′54″W﻿</td>\n      <td>﻿51.5588°N 0.2817°W</td>\n      <td>﻿51.5588°N</td>\n      <td>0.2817°W</td>\n    </tr>\n    <tr>\n      <th>4</th>\n      <td>Bromley</td>\n      <td>51°24′14″N 0°01′11″E﻿ / ﻿51.4039°N 0.0198°E</td>\n      <td>51°24′14″N 0°01′11″E﻿</td>\n      <td>﻿51.4039°N 0.0198°E</td>\n      <td>﻿51.4039°N</td>\n      <td>0.0198°E</td>\n    </tr>\n  </tbody>\n</table>\n</div>"
     },
     "metadata": {},
     "execution_count": 5
    }
   ],
   "source": [
    "# clean Borough from [note 1]\n",
    "note_regex = re.compile(r\"\\[note \\d]\")\n",
    "london_df['Borough'] = london_df['Borough'].str.replace(pat=note_regex, repl='', regex=True)\n",
    "\n",
    "london_df[['Co-ordinates_DMS', 'Co-ordinates_DEC']] = london_df['Co-ordinates'].str.split(pat=' / ', expand=True)\n",
    "london_df[['Latitude', 'Longitude']] = london_df['Co-ordinates_DEC'].str.split(expand=True)\n",
    "\n",
    "london_df.head()"
   ]
  },
  {
   "cell_type": "code",
   "execution_count": 6,
   "metadata": {},
   "outputs": [
    {
     "output_type": "execute_result",
     "data": {
      "text/plain": [
       "                 Borough  Latitude  Longitude\n",
       "0  Barking and Dagenham    51.5607     0.1557\n",
       "1                 Barnet   51.6252    -0.1517\n",
       "2                 Bexley   51.4549     0.1505\n",
       "3                  Brent   51.5588    -0.2817\n",
       "4                Bromley   51.4039     0.0198"
      ],
      "text/html": "<div>\n<style scoped>\n    .dataframe tbody tr th:only-of-type {\n        vertical-align: middle;\n    }\n\n    .dataframe tbody tr th {\n        vertical-align: top;\n    }\n\n    .dataframe thead th {\n        text-align: right;\n    }\n</style>\n<table border=\"1\" class=\"dataframe\">\n  <thead>\n    <tr style=\"text-align: right;\">\n      <th></th>\n      <th>Borough</th>\n      <th>Latitude</th>\n      <th>Longitude</th>\n    </tr>\n  </thead>\n  <tbody>\n    <tr>\n      <th>0</th>\n      <td>Barking and Dagenham</td>\n      <td>51.5607</td>\n      <td>0.1557</td>\n    </tr>\n    <tr>\n      <th>1</th>\n      <td>Barnet</td>\n      <td>51.6252</td>\n      <td>-0.1517</td>\n    </tr>\n    <tr>\n      <th>2</th>\n      <td>Bexley</td>\n      <td>51.4549</td>\n      <td>0.1505</td>\n    </tr>\n    <tr>\n      <th>3</th>\n      <td>Brent</td>\n      <td>51.5588</td>\n      <td>-0.2817</td>\n    </tr>\n    <tr>\n      <th>4</th>\n      <td>Bromley</td>\n      <td>51.4039</td>\n      <td>0.0198</td>\n    </tr>\n  </tbody>\n</table>\n</div>"
     },
     "metadata": {},
     "execution_count": 6
    }
   ],
   "source": [
    "def clean_dec(dec_str):\n",
    "    \n",
    "    sign = -1 if re.search('[swSW]', dec_str) else 1\n",
    "    dec_str = re.sub(r'°.', '', dec_str)\n",
    "    dec_str = re.sub(' ', '', dec_str)\n",
    "    dec_str = re.sub(u'\\ufeff', '', dec_str)\n",
    "    \n",
    "    return sign * (float(dec_str))\n",
    "\n",
    "london_df['Latitude'] = london_df['Latitude'].apply(clean_dec)\n",
    "london_df['Longitude'] = london_df['Longitude'].apply(clean_dec)\n",
    "\n",
    "london_df = london_df[['Borough', 'Latitude', 'Longitude']]\n",
    "\n",
    "london_df.head()"
   ]
  },
  {
   "cell_type": "code",
   "execution_count": 6,
   "metadata": {},
   "outputs": [],
   "source": [
    "\n",
    "\n",
    "\n"
   ]
  }
 ]
}